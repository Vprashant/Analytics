{
  "nbformat": 4,
  "nbformat_minor": 0,
  "metadata": {
    "colab": {
      "name": "Alphabet.ipynb",
      "version": "0.3.2",
      "provenance": [],
      "collapsed_sections": [],
      "toc_visible": true,
      "include_colab_link": true
    },
    "kernelspec": {
      "name": "python3",
      "display_name": "Python 3"
    },
    "accelerator": "GPU"
  },
  "cells": [
    {
      "cell_type": "markdown",
      "metadata": {
        "id": "view-in-github",
        "colab_type": "text"
      },
      "source": [
        "[View in Colaboratory](https://colab.research.google.com/github/Vprashant/Analytics/blob/master/Alphabet.ipynb)"
      ]
    },
    {
      "metadata": {
        "id": "Iilru_OzldwL",
        "colab_type": "code",
        "colab": {}
      },
      "cell_type": "code",
      "source": [
        "#!apt install libnvrtc8.0\n",
        "!pip install -q python-mnist\n"
      ],
      "execution_count": 0,
      "outputs": []
    },
    {
      "metadata": {
        "id": "Gzr-7Zz4QDbm",
        "colab_type": "code",
        "colab": {}
      },
      "cell_type": "code",
      "source": [
        "!mkdir data"
      ],
      "execution_count": 0,
      "outputs": []
    },
    {
      "metadata": {
        "id": "YRnlabsIefuU",
        "colab_type": "code",
        "colab": {
          "base_uri": "https://localhost:8080/",
          "height": 34
        },
        "outputId": "ff603d7f-e903-4d33-ffa2-69b5d18d65ce"
      },
      "cell_type": "code",
      "source": [
        "#!pip install python-mnist\n",
        "\n",
        "from __future__ import print_function\n",
        "import keras\n",
        "from keras.models import Sequential, load_model\n",
        "from keras.layers import Dense, Dropout, Flatten\n",
        "from keras.layers import Conv2D, MaxPooling2D\n",
        "from keras import backend as K\n",
        "from mnist import MNIST\n",
        "from sklearn.model_selection import train_test_split"
      ],
      "execution_count": 0,
      "outputs": [
        {
          "output_type": "stream",
          "text": [
            "Using TensorFlow backend.\n"
          ],
          "name": "stderr"
        }
      ]
    },
    {
      "metadata": {
        "id": "0GODs3RtiMb9",
        "colab_type": "code",
        "colab": {}
      },
      "cell_type": "code",
      "source": [
        "batch_size = 128\n",
        "num_classes = 26\n",
        "epochs = 10"
      ],
      "execution_count": 0,
      "outputs": []
    },
    {
      "metadata": {
        "id": "AZqH7N1ViMN6",
        "colab_type": "code",
        "colab": {}
      },
      "cell_type": "code",
      "source": [
        "img_rows, img_cols = 28, 28\n",
        "\n",
        "emnist_data = MNIST(path= './data', return_type='numpy')\n",
        "emnist_data.select_emnist('letters')\n",
        "X, y = emnist_data.load_training()"
      ],
      "execution_count": 0,
      "outputs": []
    },
    {
      "metadata": {
        "id": "mzK3Nxt7MBHk",
        "colab_type": "code",
        "colab": {
          "base_uri": "https://localhost:8080/",
          "height": 347
        },
        "outputId": "ed1c5419-c577-4e02-e129-a52932eea137"
      },
      "cell_type": "code",
      "source": [
        "from matplotlib import pyplot as plt\n",
        "X = X.reshape(124800, 28, 28)\n",
        "y = y.reshape(124800, 1)\n",
        "\n",
        "\n",
        "y = y-1\n",
        "\n",
        "x_train, x_test, y_train, y_test = train_test_split(X, y, test_size=0.25, random_state=111)\n",
        "\n",
        "g = plt.imshow(x_train[782])\n",
        "plt.show(g)\n",
        "\n",
        "x_train = x_train.reshape(x_train.shape[0], img_rows, img_cols, 1)\n",
        "x_test = x_test.reshape(x_test.shape[0], img_rows, img_cols, 1)\n",
        "input_shape = (img_rows, img_cols, 1)\n",
        "\n",
        "\n",
        "\n",
        "x_train = x_train.astype('float32')\n",
        "x_test = x_test.astype('float32')\n",
        "\n",
        "# Rescale the image values to [0, 1]\n",
        "x_train /= 255\n",
        "x_test /= 255\n",
        "\n"
      ],
      "execution_count": 0,
      "outputs": [
        {
          "output_type": "display_data",
          "data": {
            "image/png": "[encoded data removed]",
            "text/plain": [
              "<matplotlib.figure.Figure at 0x7f47a7e567b8>"
            ]
          },
          "metadata": {
            "tags": []
          }
        }
      ]
    },
    {
      "metadata": {
        "id": "9b3cLJ9kM3La",
        "colab_type": "code",
        "colab": {}
      },
      "cell_type": "code",
      "source": [
        "import numpy as np\n",
        "from keras.utils.np_utils import to_categorical\n",
        "from keras import utils as np_utils\n",
        "\n",
        "# Convert class vectors to binary class matrices\n",
        "nb_classes = 26\n",
        "y_train = np_utils.to_categorical(y_train, nb_classes)\n",
        "y_test = np_utils.to_categorical(y_test, nb_classes)\n",
        "\n",
        "# Set the CNN Architecture\n",
        "model = Sequential()\n",
        "model.add(Conv2D(32, kernel_size=(3, 3),\n",
        "                 activation='relu',\n",
        "                 input_shape=input_shape))\n",
        "model.add(Conv2D(64, (3, 3), activation='relu'))\n",
        "model.add(MaxPooling2D(pool_size=(2, 2)))\n",
        "model.add(Dropout(0.25))\n",
        "model.add(Flatten())\n",
        "model.add(Dense(128, activation='relu'))\n",
        "model.add(Dropout(0.5))\n",
        "model.add(Dense(num_classes, activation='softmax'))\n",
        "\n",
        "# Comple the model\n",
        "model.compile(loss=keras.losses.categorical_crossentropy,\n",
        "              optimizer=keras.optimizers.Adadelta(),\n",
        "              metrics=['accuracy'])"
      ],
      "execution_count": 0,
      "outputs": []
    },
    {
      "metadata": {
        "id": "g_RQ0jG4unjw",
        "colab_type": "code",
        "colab": {
          "base_uri": "https://localhost:8080/",
          "height": 411
        },
        "outputId": "e0162619-9e60-45e8-958b-5b468f49de91"
      },
      "cell_type": "code",
      "source": [
        "model.fit(x_train, y_train, batch_size=batch_size, epochs=epochs, verbose=1, validation_data=(x_test, y_test))\n",
        "\n",
        "# Save the model weights for future reference\n",
        "model_json = model.to_json()\n",
        "with open(\"New_Alpha_model.json\", \"w\") as json_file:\n",
        "    json_file.write(model_json)\n",
        "# serialize weights to HDF5\n",
        "model.save_weights(\"New_Alpha_model.h5\")\n",
        "print(\"Saved model to disk\")"
      ],
      "execution_count": 0,
      "outputs": [
        {
          "output_type": "stream",
          "text": [
            "Train on 93600 samples, validate on 31200 samples\n",
            "Epoch 1/10\n",
            "93600/93600 [==============================] - 19s 202us/step - loss: 0.8712 - acc: 0.7354 - val_loss: 0.3353 - val_acc: 0.8924\n",
            "Epoch 2/10\n",
            "93600/93600 [==============================] - 17s 183us/step - loss: 0.4455 - acc: 0.8604 - val_loss: 0.2755 - val_acc: 0.9121\n",
            "Epoch 3/10\n",
            "93600/93600 [==============================] - 17s 183us/step - loss: 0.3732 - acc: 0.8831 - val_loss: 0.2537 - val_acc: 0.9182\n",
            "Epoch 4/10\n",
            "93600/93600 [==============================] - 17s 186us/step - loss: 0.3347 - acc: 0.8932 - val_loss: 0.2604 - val_acc: 0.9133\n",
            "Epoch 5/10\n",
            "93600/93600 [==============================] - 17s 181us/step - loss: 0.3059 - acc: 0.9024 - val_loss: 0.2478 - val_acc: 0.9237\n",
            "Epoch 6/10\n",
            "93600/93600 [==============================] - 17s 186us/step - loss: 0.2905 - acc: 0.9061 - val_loss: 0.2301 - val_acc: 0.9246\n",
            "Epoch 7/10\n",
            "93600/93600 [==============================] - 17s 181us/step - loss: 0.2715 - acc: 0.9121 - val_loss: 0.2158 - val_acc: 0.9307\n",
            "Epoch 8/10\n",
            "93600/93600 [==============================] - 17s 187us/step - loss: 0.2617 - acc: 0.9148 - val_loss: 0.2196 - val_acc: 0.9302\n",
            "Epoch 9/10\n",
            "93600/93600 [==============================] - 17s 182us/step - loss: 0.2519 - acc: 0.9184 - val_loss: 0.2218 - val_acc: 0.9321\n",
            "Epoch 10/10\n",
            "93600/93600 [==============================] - 18s 188us/step - loss: 0.2438 - acc: 0.9189 - val_loss: 0.2051 - val_acc: 0.9324\n",
            "Saved model to disk\n"
          ],
          "name": "stdout"
        }
      ]
    },
    {
      "metadata": {
        "id": "dDCY2rrDyXAT",
        "colab_type": "code",
        "colab": {
          "base_uri": "https://localhost:8080/",
          "height": 34
        },
        "outputId": "e66a5dad-a8c1-44b3-f1d0-d5b26b08d670"
      },
      "cell_type": "code",
      "source": [
        "acc = model.evaluate(x_test, y_test)"
      ],
      "execution_count": 0,
      "outputs": [
        {
          "output_type": "stream",
          "text": [
            "31200/31200 [==============================] - 5s 173us/step\n"
          ],
          "name": "stdout"
        }
      ]
    },
    {
      "metadata": {
        "id": "i7NNlc0LygZi",
        "colab_type": "code",
        "colab": {
          "base_uri": "https://localhost:8080/",
          "height": 34
        },
        "outputId": "477ab633-5e73-4e6e-86ce-f1ce56a74d15"
      },
      "cell_type": "code",
      "source": [
        "print('accuracy :{} ,  Loss :{}'.format(acc[1],acc[0]))"
      ],
      "execution_count": 0,
      "outputs": [
        {
          "output_type": "stream",
          "text": [
            "accuracy :0.9324038461538462 ,  Loss :0.20505691017382421\n"
          ],
          "name": "stdout"
        }
      ]
    }
  ]
}